{
 "cells": [
  {
   "cell_type": "code",
   "execution_count": 1,
   "id": "d47b0d98",
   "metadata": {},
   "outputs": [
    {
     "name": "stdout",
     "output_type": "stream",
     "text": [
      "Enter a number to find its factorial: 20\n",
      "The factorial of 20 is 2432902008176640000\n"
     ]
    }
   ],
   "source": [
    "# 1. Write a Python Program to Find the Factorial of a Number?\n",
    "n = int(input(\"Enter a number to find its factorial: \"))\n",
    "m = 1\n",
    "if n < 0:\n",
    "    print(\"Sorry, factorial does not exist for negative numbers\")\n",
    "elif n == 0:\n",
    "    print(\"The factorial of 0 is 1\")\n",
    "else:\n",
    "    for i in range(1,n + 1):\n",
    "        m = m*i\n",
    "    print(\"The factorial of\",n,\"is\",m)"
   ]
  },
  {
   "cell_type": "code",
   "execution_count": 2,
   "id": "cfb3e925",
   "metadata": {},
   "outputs": [
    {
     "name": "stdout",
     "output_type": "stream",
     "text": [
      "Enter a number: 5\n",
      "5 * 1 = 5\n",
      "5 * 2 = 10\n",
      "5 * 3 = 15\n",
      "5 * 4 = 20\n",
      "5 * 5 = 25\n",
      "5 * 6 = 30\n",
      "5 * 7 = 35\n",
      "5 * 8 = 40\n",
      "5 * 9 = 45\n",
      "5 * 10 = 50\n"
     ]
    }
   ],
   "source": [
    "# 2. Write a Python Program to Display the multiplication Table?\n",
    "\n",
    "num = int(input(\"Enter a number: \"))\n",
    "mul = 1\n",
    "if num == 0:\n",
    "    print(\"0\")\n",
    "else:\n",
    "    for i in range(1,11):\n",
    "        print (num, \"*\", i, \"=\", str(num*i))\n",
    "        "
   ]
  },
  {
   "cell_type": "code",
   "execution_count": 3,
   "id": "005d0995",
   "metadata": {},
   "outputs": [
    {
     "name": "stdout",
     "output_type": "stream",
     "text": [
      "Number of elements in Fibonacci Series : 10\n",
      "[0, 1, 1, 2, 3, 5, 8, 13, 21, 34]\n"
     ]
    }
   ],
   "source": [
    "# 3. Write a Python Program to Print the Fibonacci sequence?\n",
    "n = int(input(\"Number of elements in Fibonacci Series : \"))\n",
    "\n",
    "fibonacci = [0,1]\n",
    "\n",
    "if n>2:\n",
    "    for i in range(2, n):\n",
    "        f = fibonacci[i-1] + fibonacci[i-2]\n",
    "        fibonacci.append(f)\n",
    "\n",
    "print(fibonacci)\n",
    "    "
   ]
  },
  {
   "cell_type": "code",
   "execution_count": 5,
   "id": "d34d5729",
   "metadata": {},
   "outputs": [
    {
     "name": "stdout",
     "output_type": "stream",
     "text": [
      "Enter a three digit number: 257\n",
      "257 is not an Armstrong number\n"
     ]
    }
   ],
   "source": [
    "# 4. Write a Python Program to Check Armstrong Number?\n",
    "a = int(input(\"Enter a three digit number: \"))\n",
    "sum = 1\n",
    "\n",
    "sum_cube = a\n",
    "while sum_cube > 0:\n",
    "    digit = sum_cube % 10\n",
    "    sum += digit ** 3\n",
    "    sum_cube //= 10\n",
    "\n",
    "\n",
    "if a == sum:\n",
    "   print(a,\"is an Armstrong number\")\n",
    "else:\n",
    "   print(a,\"is not an Armstrong number\")\n",
    "\n"
   ]
  },
  {
   "cell_type": "code",
   "execution_count": 6,
   "id": "9f1c0595",
   "metadata": {},
   "outputs": [
    {
     "name": "stdout",
     "output_type": "stream",
     "text": [
      "Enter number in range (From):1\n",
      "Enter number in range (To):10\n",
      "1\n",
      "2\n",
      "3\n",
      "4\n",
      "5\n",
      "6\n",
      "7\n",
      "8\n",
      "9\n"
     ]
    }
   ],
   "source": [
    "# 5. Write a Python Program to Find Armstrong Number in an Interval?\n",
    "\n",
    "lower = int(input(\"Enter number in range (From):\"))\n",
    "upper = int(input(\"Enter number in range (To):\"))\n",
    "\n",
    "for num in range(lower, upper + 1):\n",
    "    order = len(str(num))\n",
    "    sum = 0\n",
    "\n",
    "    sum_cube = num\n",
    "    while sum_cube > 0:\n",
    "        digit = sum_cube % 10\n",
    "        sum += digit ** order\n",
    "        sum_cube //= 10\n",
    "\n",
    "\n",
    "    if num == sum:\n",
    "        print(num)\n"
   ]
  },
  {
   "cell_type": "code",
   "execution_count": 7,
   "id": "e72e350f",
   "metadata": {},
   "outputs": [
    {
     "name": "stdout",
     "output_type": "stream",
     "text": [
      "Enter a number: 5\n",
      "The sum is 15\n"
     ]
    }
   ],
   "source": [
    "# 6. Write a Python Program to Find the Sum of Natural Numbers?\n",
    "num = int(input(\"Enter a number: \"))  \n",
    "      \n",
    "if num < 0:  \n",
    "    print(\"Enter a positive number\")  \n",
    "else:  \n",
    "    sum = 0  \n",
    "    while(num > 0):  \n",
    "        sum += num  \n",
    "        num -= 1  \n",
    "    print(\"The sum is\",sum)  \n"
   ]
  }
 ],
 "metadata": {
  "kernelspec": {
   "display_name": "Python 3 (ipykernel)",
   "language": "python",
   "name": "python3"
  },
  "language_info": {
   "codemirror_mode": {
    "name": "ipython",
    "version": 3
   },
   "file_extension": ".py",
   "mimetype": "text/x-python",
   "name": "python",
   "nbconvert_exporter": "python",
   "pygments_lexer": "ipython3",
   "version": "3.9.7"
  }
 },
 "nbformat": 4,
 "nbformat_minor": 5
}
