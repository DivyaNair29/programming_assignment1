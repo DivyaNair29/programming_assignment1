{
 "cells": [
  {
   "cell_type": "markdown",
   "id": "07fd6361",
   "metadata": {},
   "source": [
    "1. Write a Python program to convert kilometers to miles?"
   ]
  },
  {
   "cell_type": "code",
   "execution_count": 1,
   "id": "af72e711",
   "metadata": {},
   "outputs": [
    {
     "name": "stdout",
     "output_type": "stream",
     "text": [
      "Enter value in kilometer100\n",
      "Value in miles:62.137100000000004\n"
     ]
    }
   ],
   "source": [
    "km = float(input(\"Enter value in kilometer\"))\n",
    "diff = 0.621371\n",
    "\n",
    "m = km * diff\n",
    "print('Value in miles:'+ str(m))\n",
    "           \n"
   ]
  },
  {
   "cell_type": "markdown",
   "id": "74fb4922",
   "metadata": {},
   "source": [
    "2. Write a Python program to convert Celsius to Fahrenheit?"
   ]
  },
  {
   "cell_type": "code",
   "execution_count": 2,
   "id": "18c78b13",
   "metadata": {},
   "outputs": [
    {
     "name": "stdout",
     "output_type": "stream",
     "text": [
      "Enter value in Celsius100\n",
      "Value in Fahrenheit:212.0\n"
     ]
    }
   ],
   "source": [
    "c = float(input(\"Enter value in Celsius\"))\n",
    "f = c * 9/5 + 32\n",
    "\n",
    "print('Value in Fahrenheit:'+ str(f))"
   ]
  },
  {
   "cell_type": "markdown",
   "id": "c79cc867",
   "metadata": {},
   "source": [
    "3. Write a Python program to display calendar?"
   ]
  },
  {
   "cell_type": "code",
   "execution_count": 3,
   "id": "fca72464",
   "metadata": {},
   "outputs": [
    {
     "name": "stdout",
     "output_type": "stream",
     "text": [
      "Please enter the year: 1992\n",
      "Please enter the month: 06\n",
      "     June 1992\n",
      "Mo Tu We Th Fr Sa Su\n",
      " 1  2  3  4  5  6  7\n",
      " 8  9 10 11 12 13 14\n",
      "15 16 17 18 19 20 21\n",
      "22 23 24 25 26 27 28\n",
      "29 30\n",
      "\n"
     ]
    }
   ],
   "source": [
    "import calendar\n",
    "\n",
    "y = int(input(\"Please enter the year: \"))\n",
    "m = int(input(\"Please enter the month: \"))\n",
    "            \n",
    "print(calendar.month(y,m))\n",
    "        "
   ]
  },
  {
   "cell_type": "markdown",
   "id": "74c05149",
   "metadata": {},
   "source": [
    "4. Write a Python program to solve quadratic equation?"
   ]
  },
  {
   "cell_type": "code",
   "execution_count": 7,
   "id": "65f400f4",
   "metadata": {},
   "outputs": [
    {
     "name": "stdout",
     "output_type": "stream",
     "text": [
      "Enter value of a: 10\n",
      "Enter value of b 5\n",
      "Enter value of c: 9\n",
      "The roots are: (-0.25-0.9151502608861563j)(-0.25+0.9151502608861563j)\n"
     ]
    }
   ],
   "source": [
    "#ax**2 + bx +c=0\n",
    "import cmath\n",
    "\n",
    "a = float(input(\"Enter value of a: \"))\n",
    "b = float(input(\"Enter value of b \"))\n",
    "c = float(input(\"Enter value of c: \"))\n",
    "\n",
    "d = (b**2) - (4*a*c)\n",
    "\n",
    "if a == 0:\n",
    "    print(\"Please enter valid value of a\")\n",
    "else:\n",
    "    sol1 = (-b-cmath.sqrt(d))/(2 * a)\n",
    "    sol2 = (-b+cmath.sqrt(d))/(2 * a)\n",
    "    \n",
    "print(\"The roots are: \" + str(sol1) + str(sol2))\n"
   ]
  },
  {
   "cell_type": "markdown",
   "id": "4ee68d18",
   "metadata": {},
   "source": [
    "5. Write a Python program to swap two variables without temp variable?"
   ]
  },
  {
   "cell_type": "code",
   "execution_count": 5,
   "id": "9879d325",
   "metadata": {},
   "outputs": [
    {
     "name": "stdout",
     "output_type": "stream",
     "text": [
      "x = 10\n",
      "y = 5\n"
     ]
    }
   ],
   "source": [
    "x = 5\n",
    "y = 10\n",
    "\n",
    "x,y = y,x\n",
    "\n",
    "\n",
    "print(\"x = \" + str(x))\n",
    "print(\"y = \" + str(y))"
   ]
  }
 ],
 "metadata": {
  "kernelspec": {
   "display_name": "Python 3 (ipykernel)",
   "language": "python",
   "name": "python3"
  },
  "language_info": {
   "codemirror_mode": {
    "name": "ipython",
    "version": 3
   },
   "file_extension": ".py",
   "mimetype": "text/x-python",
   "name": "python",
   "nbconvert_exporter": "python",
   "pygments_lexer": "ipython3",
   "version": "3.9.7"
  }
 },
 "nbformat": 4,
 "nbformat_minor": 5
}
